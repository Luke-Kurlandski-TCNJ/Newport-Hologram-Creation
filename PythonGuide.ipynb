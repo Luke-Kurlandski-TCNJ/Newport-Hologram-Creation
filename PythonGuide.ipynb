{
 "cells": [
  {
   "cell_type": "markdown",
   "metadata": {},
   "source": [
    "Guide to Python in McGee Laser Lab\n",
    "\n",
    "By Luke Kurlandski, November 2019\n",
    "\n",
    "This is a basic guide to Python. This guide is written with the assumption that the reader has an understanding of extremely basic programming concept such as basic data types, loops, arrays, and functions. Having knowledge of these concepts in any programming language will prepare you to understand this guide. After reading this guide, you be able to understand the code that has already been written in the McGee Lab. Using this guide, code previously written, and ofcourse the internet, you should be able to write high quality programs.\n",
    "\n",
    "When writing code in McGee Lab, you must consider a few key concepts:\n",
    "\n",
    "1) Your code needs to be readable and understandable to people other than yourself.\n",
    "\n",
    "2) Your code needs to be expandable and easy to build off.\n",
    "\n",
    "3) Your code needs to pythonic. Follow the Zen of Python: https://www.python.org/dev/peps/pep-0020/\n",
    "\n",
    "It is important to write code with correct style and conventions. Spend extra time to make your code high quality. Not only is this nessecary for the people following in your footsteps, but it will also benefit you yourself later on. If the code is shit, then fix it.\n",
    "\n",
    "This guide will not cover Tkinter. The graphical user interface aspect is way outside of the scope of this guide. If you need to write programs with a GUI, be prepared for a serious learning curve and time investment. I highly reccomend this site as a source for all things Tkinter. \n",
    "\n",
    "https://www.tutorialspoint.com/python/python_gui_programming.htm"
   ]
  },
  {
   "cell_type": "markdown",
   "metadata": {},
   "source": [
    "The first concept I will cover is object oriented programming. Classes and objects. Using classes keeps code reusable, organized, and expandable. A class is like a blueprint; an object is the instantiation of a class, like a house in this analagy. Using one blueprint (class) you can create many houses (objects). By modifying the blueprint, you modify how each house will appear when you build it. Classes have data (variables) and behavior (methods).\n",
    "\n",
    "https://www.geeksforgeeks.org/classes-objects-java/"
   ]
  },
  {
   "cell_type": "code",
   "execution_count": 19,
   "metadata": {},
   "outputs": [
    {
     "name": "stdout",
     "output_type": "stream",
     "text": [
      "0.1\n"
     ]
    }
   ],
   "source": [
    "class Animal: \n",
    "    def __init__(self, weight, height):\n",
    "        \"\"\"Constructor for Animal class.\"\"\"\n",
    "        self.weight = weight\n",
    "        self.height = height\n",
    "        \n",
    "    def calculate_BMI(self):\n",
    "        self.BMI = self.weight / self.height ** 2\n",
    "        return self.BMI\n",
    "\n",
    "#Create an animal object\n",
    "animal_one = Animal(10, 10)\n",
    "#Assign the BMI of animal_one into a variable, x\n",
    "x = animal_one.calculate_BMI()\n",
    "print(x)\n",
    "\n",
    "#Create 10000 animal objects with different properties\n",
    "for i in range(1,10000):\n",
    "    a = Animal(10*i, i/10)\n",
    "    a.calculate_BMI()"
   ]
  },
  {
   "cell_type": "markdown",
   "metadata": {},
   "source": [
    "Programmers use a strategy called inheritence to make their lives easier. Inheritence reduces the amount of code needed and increases organization. In an inheritence relationship between two classes, one class is called the 'parent' and one class the 'child'. The child class inherits all of the data and behavior of the parent class, that is, the child class can use the variables and methods defined in the parent class! Inheritence uses an 'X is a Y' relationship. If X is a Y, then class X should inherit from class Y.\n",
    "\n",
    "https://www.geeksforgeeks.org/inheritance-in-python/"
   ]
  },
  {
   "cell_type": "code",
   "execution_count": 20,
   "metadata": {},
   "outputs": [
    {
     "name": "stdout",
     "output_type": "stream",
     "text": [
      "Owner:  Freddy\n",
      "Owner:  None\n",
      "Cat's BMI:  0.1\n"
     ]
    }
   ],
   "source": [
    "class Dog(Animal):\n",
    "    \n",
    "    def __init__(self, weight, height, owner):\n",
    "        \"\"\"Constructor for the Dog class. Used to create Dog objects\"\"\"\n",
    "        #Use the constructor of the parent class and write less code\n",
    "        super().__init__(weight, height) \n",
    "        self.owner = owner\n",
    "        \n",
    "    def kill_owner(self):\n",
    "        self.owner = None\n",
    "    \n",
    "class Cat(Animal):\n",
    "    \n",
    "    #For this class I'm not going to define a constructor. \n",
    "    #Python will automatically use the Animal class constructor.\n",
    "    \n",
    "    def loose_weight(self):\n",
    "        #Notice how we can access the data from the Animal class without declaring it in the Cat class\n",
    "        self.weight = self.weight - 1\n",
    "\n",
    "#Dog class\n",
    "dog = Dog(10, 10, 'Freddy')\n",
    "print('Owner: ' , dog.owner)\n",
    "dog.kill_owner()\n",
    "print('Owner: ' , dog.owner)\n",
    "\n",
    "#Cat class\n",
    "cat = Cat(10, 10)\n",
    "x = cat.calculate_BMI() \n",
    "print('Cat\\'s BMI: ', x)"
   ]
  },
  {
   "cell_type": "markdown",
   "metadata": {},
   "source": [
    "Now I will discuss the next topic, exception handling. Exception handling is used to handle problems that may arise during the execution of a program. This can prevent the program from crashing, the laser from burning out, or the user from giving inputs that will lead to a failed experiment. It is good practice to write your own expection classes, however, it was not a super big deal because of the small scale nature of this project.\n",
    "\n",
    "https://www.geeksforgeeks.org/python-set-5-exception-handling/"
   ]
  },
  {
   "cell_type": "code",
   "execution_count": 21,
   "metadata": {},
   "outputs": [
    {
     "name": "stdout",
     "output_type": "stream",
     "text": [
      "You tried to cast a non-number as a float\n",
      "User input converted into a float\n",
      "User input converted into a float\n",
      "User input converted into a float\n"
     ]
    }
   ],
   "source": [
    "def test_exceptions(user_input):\n",
    "    try:\n",
    "        num = float(user_input)\n",
    "        print('User input converted into a float')\n",
    "    except:\n",
    "        print('You tried to cast a non-number as a float')\n",
    "        \n",
    "test_exceptions('Not a Number')\n",
    "test_exceptions('1')\n",
    "test_exceptions('10.0')\n",
    "test_exceptions(1)"
   ]
  },
  {
   "cell_type": "markdown",
   "metadata": {},
   "source": [
    "Programmers often perform more complex operations with exceptions to serve their needs."
   ]
  },
  {
   "cell_type": "code",
   "execution_count": 18,
   "metadata": {},
   "outputs": [
    {
     "name": "stdout",
     "output_type": "stream",
     "text": [
      "Exception occurred:  Number too small\n",
      "Executing closing operations. Closing shutter, turning off laser, closing serial ports.\n"
     ]
    }
   ],
   "source": [
    "def example(a, array):\n",
    "    if a > 9:\n",
    "        raise Exception('Number too big')\n",
    "    elif a < 0:\n",
    "        raise Exception('Number too small')\n",
    "    else:\n",
    "        return array[a]\n",
    "\n",
    "array = [1,2,3,4,5,6,7,8,9]\n",
    "try:\n",
    "    element = example(-1, array)\n",
    "except Exception as e:\n",
    "    print('Exception occurred: ', e)\n",
    "finally:\n",
    "    print('Executing closing operations. Closing shutter, turning off laser, closing serial ports.')"
   ]
  },
  {
   "cell_type": "markdown",
   "metadata": {},
   "source": [
    "The next strategy is using files. Accessing files effectivly allows a programmer to store data. It also gives the programmer the power to put a large chunk of text in one convieniant location that is not in the program itself, like a 'Help' guide. Python provides extremely easy use of files compared to other languages (all fingers pointing at C/C++). It is import that the computer knows where to find your files. The computer will search in the local directory by default. If the file is not found, an exception will be thrown. If you do not have the myText.txt file in the same directory as this file, the code below will not execute."
   ]
  },
  {
   "cell_type": "code",
   "execution_count": 39,
   "metadata": {},
   "outputs": [
    {
     "name": "stdout",
     "output_type": "stream",
     "text": [
      "First Line.\n",
      "Replace that previous line\n"
     ]
    }
   ],
   "source": [
    "try:\n",
    "    #Open the file in read-only mode\n",
    "    file = open('myText.txt', 'r')\n",
    "    line = file.readline()\n",
    "    print(line)\n",
    "    file.close()\n",
    "\n",
    "    #Open the file in write mode\n",
    "    file = file = open('myText.txt', 'w')\n",
    "    file.write('Modify Text')\n",
    "    file.close()\n",
    "\n",
    "    #Open the file in read-only mode\n",
    "    file = open('myText.txt', 'r')\n",
    "    line = file.readline()\n",
    "    print(line)\n",
    "    file.close()\n",
    "except FileNotFoundError:\n",
    "    print('Did you forget the download the accompying text file and put it in the correct directory?')\n",
    "except Exception:\n",
    "    print('Some other error occured')\n",
    "    file.close()"
   ]
  },
  {
   "cell_type": "code",
   "execution_count": null,
   "metadata": {},
   "outputs": [],
   "source": []
  }
 ],
 "metadata": {
  "kernelspec": {
   "display_name": "Python 3",
   "language": "python",
   "name": "python3"
  },
  "language_info": {
   "codemirror_mode": {
    "name": "ipython",
    "version": 3
   },
   "file_extension": ".py",
   "mimetype": "text/x-python",
   "name": "python",
   "nbconvert_exporter": "python",
   "pygments_lexer": "ipython3",
   "version": "3.7.4"
  }
 },
 "nbformat": 4,
 "nbformat_minor": 2
}
